{
 "cells": [
  {
   "cell_type": "code",
   "execution_count": null,
   "metadata": {},
   "outputs": [],
   "source": [
    "# Import the Firebase service\n",
    "from firebase_admin import auth, credentials, firestore\n",
    "import firebase_admin\n",
    "import os"
   ]
  },
  {
   "cell_type": "code",
   "execution_count": null,
   "metadata": {},
   "outputs": [],
   "source": [
    "os.path.exists('mtg-scraper-385015-aad053a61746.json')"
   ]
  },
  {
   "cell_type": "code",
   "execution_count": null,
   "metadata": {},
   "outputs": [],
   "source": [
    "if firebase_admin._apps.get('[DEFAULT]'):\n",
    "    print('Firestore Default App already initialized')\n",
    "else:\n",
    "    print('Init Firestore Default App')\n",
    "    cred = credentials.Certificate('mtg-scraper-385015-aad053a61746.json')\n",
    "    app = firebase_admin.initialize_app(cred)\n",
    "\n"
   ]
  },
  {
   "cell_type": "code",
   "execution_count": null,
   "metadata": {},
   "outputs": [],
   "source": [
    "db = firestore.client()\n",
    "\n",
    "doc_id = hash('/en/news/mtg-arena/the-most-played-cards-of-phyrexia-all-will-be-one-in-early-access')\n",
    "\n",
    "data = {\n",
    "        u\"id\": u\"/en/news/mtg-arena/the-most-played-cards-of-phyrexia-all-will-be-one-in-early-access\",\n",
    "        u\"link\": u\"https://magic.wizards.com/en/news/mtg-arena/the-most-played-cards-of-phyrexia-all-will-be-one-in-early-access\",\n",
    "        u\"name\": u\"The Most-Played Cards of Phyrexia: All Will Be One in Early Access\",\n",
    "        u\"date_added\": u\"2023-02-08, 10:51:53\",\n",
    "        u\"date_downloaded\": u\"\"\n",
    "}\n",
    "\n",
    "# Add a new doc in collection 'cities' with ID 'LA'\n",
    "db.collection(u'article_links').document(str(doc_id)).set(data)"
   ]
  },
  {
   "cell_type": "code",
   "execution_count": null,
   "metadata": {},
   "outputs": [],
   "source": [
    "hash('/en/news/mtg-arena/the-most-played-cards-of-phyrexia-all-will-be-one-in-early-access')"
   ]
  },
  {
   "cell_type": "code",
   "execution_count": null,
   "metadata": {},
   "outputs": [],
   "source": [
    "hash('/en/news/mtg-arena/the-most-played-cards-of-phyrexia-all-will-be-one-in-early-access')"
   ]
  },
  {
   "cell_type": "code",
   "execution_count": null,
   "metadata": {},
   "outputs": [],
   "source": [
    "import hashlib"
   ]
  },
  {
   "cell_type": "code",
   "execution_count": null,
   "metadata": {},
   "outputs": [],
   "source": [
    "result = hashlib.md5('/en/news/mtg-arena/the-most-played-cards-of-phyrexia-all-will-be-one-in-early-access'.encode())"
   ]
  },
  {
   "cell_type": "code",
   "execution_count": null,
   "metadata": {},
   "outputs": [],
   "source": [
    "result.hexdigest()"
   ]
  },
  {
   "cell_type": "code",
   "execution_count": null,
   "metadata": {},
   "outputs": [],
   "source": [
    "result2 = hashlib.md5('/en/news/mtg-arena/the-most-played-cards-of-phyrexia-all-will-be-one-in-early-access'.encode())\n",
    "result2.hexdigest()"
   ]
  },
  {
   "cell_type": "code",
   "execution_count": null,
   "metadata": {},
   "outputs": [],
   "source": [
    "result.hexdigest() == result2.hexdigest()"
   ]
  },
  {
   "cell_type": "code",
   "execution_count": 1,
   "metadata": {},
   "outputs": [],
   "source": [
    "import ArticleHandler as ah"
   ]
  },
  {
   "cell_type": "code",
   "execution_count": 2,
   "metadata": {},
   "outputs": [],
   "source": [
    "link = ah.ArticleLink('/en/news/mtg-arena/the-most-played-cards-of-phyrexia-all-will-be-one-in-early-access')"
   ]
  },
  {
   "cell_type": "code",
   "execution_count": 3,
   "metadata": {},
   "outputs": [
    {
     "data": {
      "text/plain": [
       "<ArticleHandler.ArticleLink at 0x10d0cb110>"
      ]
     },
     "execution_count": 3,
     "metadata": {},
     "output_type": "execute_result"
    }
   ],
   "source": [
    "link"
   ]
  },
  {
   "cell_type": "code",
   "execution_count": 4,
   "metadata": {},
   "outputs": [
    {
     "data": {
      "text/plain": [
       "'3e45f70a2b07cfa9950859213cede22b'"
      ]
     },
     "execution_count": 4,
     "metadata": {},
     "output_type": "execute_result"
    }
   ],
   "source": [
    "link.url_hash"
   ]
  },
  {
   "cell_type": "code",
   "execution_count": null,
   "metadata": {},
   "outputs": [],
   "source": []
  }
 ],
 "metadata": {
  "kernelspec": {
   "display_name": "Python 3",
   "language": "python",
   "name": "python3"
  },
  "language_info": {
   "codemirror_mode": {
    "name": "ipython",
    "version": 3
   },
   "file_extension": ".py",
   "mimetype": "text/x-python",
   "name": "python",
   "nbconvert_exporter": "python",
   "pygments_lexer": "ipython3",
   "version": "3.11.0"
  },
  "orig_nbformat": 4
 },
 "nbformat": 4,
 "nbformat_minor": 2
}
