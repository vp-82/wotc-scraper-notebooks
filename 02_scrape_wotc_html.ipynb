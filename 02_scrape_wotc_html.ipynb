{
 "cells": [
  {
   "attachments": {},
   "cell_type": "markdown",
   "metadata": {},
   "source": [
    "## Scrape https://magic.wizards.com/en/news/archive and collect the articles"
   ]
  },
  {
   "attachments": {},
   "cell_type": "markdown",
   "metadata": {},
   "source": [
    "Imports"
   ]
  },
  {
   "cell_type": "code",
   "execution_count": 77,
   "metadata": {},
   "outputs": [],
   "source": [
    "import json\n",
    "import pathlib\n",
    "import shutil\n",
    "import datetime\n",
    "import requests"
   ]
  },
  {
   "cell_type": "code",
   "execution_count": 78,
   "metadata": {},
   "outputs": [],
   "source": [
    "link_file = pathlib.Path('./data/linklist.json')\n",
    "link_file_tmp = pathlib.Path('./data/linklist.json.tmp')\n",
    "skip_existing = False"
   ]
  },
  {
   "cell_type": "code",
   "execution_count": 79,
   "metadata": {},
   "outputs": [],
   "source": [
    "def download_article_html(link: str) -> bool:\n",
    "    \n",
    "    success = False\n",
    "    \n",
    "    try:\n",
    "        response = requests.get(link)\n",
    "        if (response.status_code != 200):\n",
    "            raise requests.HTTPError(response)\n",
    "        file_name = './data/raw_html/' + link.split('/')[-1]\n",
    "        # print(file_name)\n",
    "        with open(file_name, mode='w') as f:\n",
    "            f.write(response.text)\n",
    "    except Exception as ex:\n",
    "        print(ex)\n",
    "    else:\n",
    "        success = True\n",
    "        print(f'Download of {link} ok')\n",
    "    \n",
    "    return success"
   ]
  },
  {
   "cell_type": "code",
   "execution_count": 80,
   "metadata": {},
   "outputs": [
    {
     "name": "stdout",
     "output_type": "stream",
     "text": [
      "Download of https://magic.wizards.com/en/news/announcements/phyrexia-all-will-be-one-comprehensive-rules-changes ok\n",
      "Download of https://magic.wizards.com/en/news/announcements/phyrexia-all-will-be-one-update-bulletin ok\n",
      "Download of https://magic.wizards.com/en/news/mtg-arena/2023-mtg-arena-premier-play ok\n",
      "Download of https://magic.wizards.com/en/news/mtg-arena/the-most-played-cards-of-phyrexia-all-will-be-one-in-early-access ok\n",
      "Download of https://magic.wizards.com/en/news/mtg-arena/mtg-arena-announcements-february-6-2023 ok\n",
      "Download of https://magic.wizards.com/en/news/mtg-arena/mtg-arena-release-notes-phyrexia-all-will-be-one ok\n",
      "Download of https://magic.wizards.com/en/news/making-magic/mission-compleat-part-2 ok\n",
      "Download of https://magic.wizards.com/en/news/announcements/update-on-secret-lair-ssssssnakessssss-stonecoil-serpent-art ok\n",
      "Download of https://magic.wizards.com/en/news/feature/the-legends-of-phyrexia-all-will-be-one ok\n",
      "Download of https://magic.wizards.com/en/news/card-image-gallery/phyrexia-all-will-be-one-art-cards ok\n",
      "Download of 10 html files successfull\n"
     ]
    }
   ],
   "source": [
    "with open(link_file) as lr:\n",
    "    i = 0\n",
    "    try:\n",
    "        link_list = json.load(lr)\n",
    "        for link_info in link_list:\n",
    "            link = link_info['link']\n",
    "            if link_info['date_downloaded'] == '' or skip_existing == False:\n",
    "                is_download = download_article_html(link=link)\n",
    "                link_info['date_downloaded'] = datetime.datetime.now().strftime(\"%Y-%m-%d, %H:%M:%S\")\n",
    "                i+=1\n",
    "            else:\n",
    "                print(f'Link {link} already downloaded')\n",
    "            \n",
    "    except Exception as rex:\n",
    "        print(rex)\n",
    "    else:\n",
    "        \n",
    "        with open(link_file_tmp, 'w') as lw:\n",
    "            try:\n",
    "                json.dump(link_list, lw, indent=4) \n",
    "            except Exception as wex:\n",
    "                print(wex)\n",
    "            else:\n",
    "                shutil.move(link_file_tmp, link_file)\n",
    "                print(f'Download of {i} html files successfull')\n",
    "        \n",
    "\n",
    "       \n",
    "    "
   ]
  },
  {
   "cell_type": "code",
   "execution_count": null,
   "metadata": {},
   "outputs": [],
   "source": []
  }
 ],
 "metadata": {
  "kernelspec": {
   "display_name": "Python 3",
   "language": "python",
   "name": "python3"
  },
  "language_info": {
   "codemirror_mode": {
    "name": "ipython",
    "version": 3
   },
   "file_extension": ".py",
   "mimetype": "text/x-python",
   "name": "python",
   "nbconvert_exporter": "python",
   "pygments_lexer": "ipython3",
   "version": "3.11.0"
  },
  "orig_nbformat": 4,
  "vscode": {
   "interpreter": {
    "hash": "a80ff5da2e7a9a9594889659e15313a9081d956cf7bf83fa6463eb465b0002c9"
   }
  }
 },
 "nbformat": 4,
 "nbformat_minor": 2
}
