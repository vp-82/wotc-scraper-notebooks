{
 "cells": [
  {
   "attachments": {},
   "cell_type": "markdown",
   "metadata": {},
   "source": [
    "## Scrape https://magic.wizards.com/en/news/archive and collect the articles"
   ]
  },
  {
   "attachments": {},
   "cell_type": "markdown",
   "metadata": {},
   "source": [
    "Imports"
   ]
  },
  {
   "cell_type": "code",
   "execution_count": null,
   "metadata": {},
   "outputs": [],
   "source": [
    "import json\n",
    "import pathlib\n",
    "import shutil\n",
    "import datetime\n",
    "import requests\n"
   ]
  },
  {
   "cell_type": "code",
   "execution_count": null,
   "metadata": {},
   "outputs": [],
   "source": [
    "link_file = pathlib.Path('./data/linklist.json')\n",
    "link_file_tmp = pathlib.Path('./data/linklist.json.tmp')\n",
    "skip_existing = True"
   ]
  },
  {
   "cell_type": "code",
   "execution_count": null,
   "metadata": {},
   "outputs": [],
   "source": [
    "def download_article_html(link: str) -> bool:\n",
    "    # Use a flag to track the success of the download\n",
    "    success = False\n",
    "    \n",
    "    try:\n",
    "        response = requests.get(link)\n",
    "        response.raise_for_status()\n",
    "        file_name = './data/raw_html/' + link.split('/')[-1]\n",
    "        with open(file_name, 'w') as f:\n",
    "            f.write(response.text)\n",
    "    except requests.exceptions.HTTPError as ex:\n",
    "        print(f\"Error downloading '{link}': {ex}\")\n",
    "    except Exception as ex:\n",
    "        print(f\"Error writing to file '{file_name}': {ex}\")\n",
    "    else:\n",
    "        success = True\n",
    "        print(f\"Download of '{link}' was successful\")\n",
    "    \n",
    "    return success"
   ]
  },
  {
   "cell_type": "code",
   "execution_count": null,
   "metadata": {},
   "outputs": [],
   "source": [
    "def download_html_files(link_file: str, skip_existing: bool = False):\n",
    "    \"\"\"\n",
    "    Downloads the HTML files for all links in the link file.\n",
    "    \n",
    "    Args:\n",
    "        link_file: The file that contains the links to download.\n",
    "        skip_existing: Whether to skip links that have already been downloaded.\n",
    "    \n",
    "    Returns:\n",
    "        None\n",
    "    \"\"\"\n",
    "    # The temporary file to store the links in\n",
    "    link_file_tmp = link_file + '.tmp'\n",
    "    # Open the link file for reading\n",
    "    with open(link_file) as lr:\n",
    "        # The number of links that have been downloaded\n",
    "        count = 0\n",
    "        # Load the links from the file\n",
    "        links = json.load(lr)\n",
    "        # Loop over the links\n",
    "        for link_info in links:\n",
    "            # Get the link\n",
    "            link = link_info['link']\n",
    "            # Check if the link has already been downloaded\n",
    "            if link_info['date_downloaded'] == '' and not skip_existing:\n",
    "                # Download the HTML file for the link\n",
    "                download_article_html(link)\n",
    "                # Update the date the link was downloaded\n",
    "                link_info['date_downloaded'] = datetime.datetime.now().strftime(\"%Y-%m-%d, %H:%M:%S\")\n",
    "                # Increment the number of links that have been downloaded\n",
    "                count += 1\n",
    "            else:\n",
    "                print(f'Link {link} already downloaded')\n",
    "        \n",
    "        # Write the updated links to the temporary file\n",
    "        with open(link_file_tmp, 'w') as lw:\n",
    "            json.dump(links, lw, indent=4) \n",
    "        # Replace the original link file with the temporary file\n",
    "        shutil.move(link_file_tmp, link_file)\n",
    "        print(f'Download of {count} html files successful')\n",
    "        \n",
    "\n",
    "       \n",
    "    "
   ]
  },
  {
   "cell_type": "code",
   "execution_count": null,
   "metadata": {},
   "outputs": [],
   "source": [
    "def main():\n",
    "    # Load the known link IDs from the link file\n",
    "    link_file = \"./data/links.json\"\n",
    "    known_link_ids = load_known_link_ids(link_file)\n",
    "    \n",
    "    # Download the articles, skipping existing ones if specified\n",
    "    skip_existing = False\n",
    "    download_articles(link_file, known_link_ids, skip_existing)\n",
    "\n",
    "if __name__ == '__main__':\n",
    "    # Call the main method only if this script is being run directly\n",
    "    main()"
   ]
  }
 ],
 "metadata": {
  "kernelspec": {
   "display_name": "Python 3",
   "language": "python",
   "name": "python3"
  },
  "language_info": {
   "codemirror_mode": {
    "name": "ipython",
    "version": 3
   },
   "file_extension": ".py",
   "mimetype": "text/x-python",
   "name": "python",
   "nbconvert_exporter": "python",
   "pygments_lexer": "ipython3",
   "version": "3.11.0"
  },
  "orig_nbformat": 4,
  "vscode": {
   "interpreter": {
    "hash": "a80ff5da2e7a9a9594889659e15313a9081d956cf7bf83fa6463eb465b0002c9"
   }
  }
 },
 "nbformat": 4,
 "nbformat_minor": 2
}
