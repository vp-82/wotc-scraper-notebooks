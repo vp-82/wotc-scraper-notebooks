{
 "cells": [
  {
   "cell_type": "code",
   "execution_count": null,
   "metadata": {},
   "outputs": [],
   "source": [
    "import datetime\n",
    "import ipywidgets as widgets\n",
    "import requests\n",
    "from bs4 import BeautifulSoup\n",
    "import json\n",
    "import os\n",
    "import pathlib\n",
    "import time"
   ]
  },
  {
   "cell_type": "code",
   "execution_count": null,
   "metadata": {},
   "outputs": [],
   "source": [
    "from_page = 1\n",
    "to_page = 4\n",
    "link_file = pathlib.Path('./data/linklist.json')"
   ]
  },
  {
   "cell_type": "code",
   "execution_count": null,
   "metadata": {},
   "outputs": [],
   "source": [
    "def load_known_link_ids(link_file: str) -> List[str]:\n",
    "    \"\"\"Loads known link IDs from a file and returns them as a list.\n",
    "\n",
    "    If the file does not exist, it creates an empty file.\n",
    "\n",
    "    Args:\n",
    "        link_file (str): The file to load the link IDs from.\n",
    "\n",
    "    Returns:\n",
    "        List[str]: A list of known link IDs.\n",
    "    \"\"\"\n",
    "    known_link_ids = []\n",
    "    if os.path.exists(link_file):\n",
    "        with open(link_file) as f:\n",
    "            try:\n",
    "                link_list = json.load(f)\n",
    "                for linfo in link_list:\n",
    "                    known_link_ids.append(linfo['id'])\n",
    "            except json.JSONDecodeError:\n",
    "                print(f'Link file {link_file} is empty')\n",
    "    else:\n",
    "        with open(link_file, 'w') as j:\n",
    "            j.close()\n",
    "    return known_link_ids\n"
   ]
  },
  {
   "cell_type": "code",
   "execution_count": null,
   "metadata": {},
   "outputs": [],
   "source": [
    "def scrape_links(from_page: int, to_page: int, link_file: str) -> None:\n",
    "    \"\"\"Scrapes links from a website and appends them to a file.\n",
    "\n",
    "    The function makes a GET request to the website's search API for each page between `from_page` and `to_page` inclusive.\n",
    "    If a link has not been seen before, it is added to the file. The function also outputs a message for every 10th page it\n",
    "    processes.\n",
    "\n",
    "    Args:\n",
    "        from_page (int): The first page to scrape links from.\n",
    "        to_page (int): The last page to scrape links from.\n",
    "        link_file (str): The file to append the new links to.\n",
    "    \"\"\"\n",
    "    known_link_ids = load_known_link_ids(link_file)\n",
    "    has_results = True\n",
    "    i = from_page\n",
    "    while has_results and i <= to_page:\n",
    "        new_link_list = []  \n",
    "        time.sleep(2)\n",
    "        search_response = requests.get(f'https://magic.wizards.com/en/news/archive?search&page={i}&category=all&author=all&order=newest')\n",
    "        page_result = search_response.text\n",
    "        soup = BeautifulSoup(page_result, 'html.parser')\n",
    "\n",
    "        # Check if page is empty\n",
    "        entry = soup.find(class_=\"css-36asz\")\n",
    "        if entry:\n",
    "            print(f'Response from page {i} :'+entry.text.strip())\n",
    "            has_results = False\n",
    "            break\n",
    "\n",
    "        # Find all entries on the page\n",
    "        entry_list = soup.find_all(class_=\"css-9f4rq\")\n",
    "        for entry in entry_list:\n",
    "            parent = entry.findParent()\n",
    "            link_id = parent.get('href')\n",
    "            if link_id not in known_link_ids:\n",
    "                link_info = {\n",
    "                    'id': link_id,\n",
    "                    'link': 'https://magic.wizards.com' + link_id,\n",
    "                    'name': parent.text,\n",
    "                    'date_added': datetime.datetime.now().strftime(\"%Y-%m-%d, %H:%M:%S\"),\n",
    "                    'date_downloaded': ''\n",
    "                }\n",
    "                print(f'Adding {link_id}')\n",
    "                new_link_list.append(link_info)\n",
    "            else:\n",
    "                print(f'Link with Id {link_id} already exists')\n",
    "\n",
    "        # Append new links to the file\n",
    "        with open(link_file, 'w') as j:\n",
    "            json.dump(link_list + new_link_list, j, indent=4)\n",
    "\n",
    "        if i % 10 == 0:\n",
    "            print(f'Page: {i}')\n",
    "            print(search_response.status_code)\n",
    "        i += 1"
   ]
  },
  {
   "cell_type": "code",
   "execution_count": null,
   "metadata": {},
   "outputs": [],
   "source": [
    "def main():\n",
    "    # The file to store the links in\n",
    "    link_file = './data/links.json'\n",
    "    # The first page to scrape links from\n",
    "    from_page = 1\n",
    "    # The last page to scrape links from\n",
    "    to_page = 50\n",
    "    # Scrape the links from the website\n",
    "    scrape_links(from_page, to_page, link_file)\n",
    "    # Load the known link IDs from the file\n",
    "    known_link_ids, link_list = load_link_ids(link_file)\n",
    "\n",
    "if __name__ == '__main__':\n",
    "    # Call the main method when the module is executed as a script\n",
    "    main()"
   ]
  },
  {
   "cell_type": "code",
   "execution_count": null,
   "metadata": {},
   "outputs": [],
   "source": [
    "def test_scrape_links():\n",
    "    # Test data\n",
    "    link_file = './test_data/test_links.json'\n",
    "    from_page = 1\n",
    "    to_page = 2\n",
    "    \n",
    "    # Call the scrape_links method with the test data\n",
    "    scrape_links(from_page, to_page, link_file)\n",
    "    \n",
    "    # Assert that the link file was created\n",
    "    assert os.path.exists(link_file)\n",
    "    \n",
    "    # Load the links from the file\n",
    "    with open(link_file) as f:\n",
    "        links = json.load(f)\n",
    "    \n",
    "    # Assert that the correct number of links was scraped\n",
    "    assert len(links) == 20 # 20 links are expected to be scraped from 2 pages\n",
    "\n",
    "def test_load_link_ids():\n",
    "    # Test data\n",
    "    link_file = './test_data/test_links.json'\n",
    "    \n",
    "    # Load the link IDs from the file\n",
    "    known_link_ids, links = load_link_ids(link_file)\n",
    "    \n",
    "    # Assert that the correct number of link IDs was loaded\n",
    "    assert len(known_link_ids) == 20 # 20 links are expected to be in the file\n",
    "    assert len(links) == 20 # 20 links are expected to be in the file\n",
    "\n",
    "def scrape_test():\n",
    "    test_scrape_links()\n",
    "    test_load_link_ids()\n"
   ]
  },
  {
   "cell_type": "code",
   "execution_count": null,
   "metadata": {},
   "outputs": [],
   "source": [
    "def main():\n",
    "    # The file to store the links in\n",
    "    link_file = './data/links.json'\n",
    "    # The first page to scrape links from\n",
    "    from_page = 1\n",
    "    # The last page to scrape links from\n",
    "    to_page = 50\n",
    "    # Run the scrape tests\n",
    "    scrape_test()\n",
    "    # Scrape the links from the website\n",
    "    scrape_links(from_page, to_page, link_file)\n",
    "    # Load the known link IDs from the file\n",
    "    known_link_ids, link_list = load_link_ids(link_file)\n",
    "\n",
    "\n",
    "if __name__ == '__main__':\n",
    "    # Call the main method when the module is executed as a script\n",
    "    main()"
   ]
  },
  {
   "cell_type": "code",
   "execution_count": 1,
   "metadata": {},
   "outputs": [
    {
     "ename": "NameError",
     "evalue": "name 'scrape_test' is not defined",
     "output_type": "error",
     "traceback": [
      "\u001b[0;31m---------------------------------------------------------------------------\u001b[0m",
      "\u001b[0;31mNameError\u001b[0m                                 Traceback (most recent call last)",
      "Cell \u001b[0;32mIn[1], line 1\u001b[0m\n\u001b[0;32m----> 1\u001b[0m scrape_test()\n\u001b[1;32m      2\u001b[0m     \u001b[39m# Scrape the links from the website\u001b[39;00m\n",
      "\u001b[0;31mNameError\u001b[0m: name 'scrape_test' is not defined"
     ]
    }
   ],
   "source": [
    "scrape_test()\n",
    "    # Scrape the links from the website"
   ]
  },
  {
   "cell_type": "code",
   "execution_count": null,
   "metadata": {},
   "outputs": [],
   "source": []
  }
 ],
 "metadata": {
  "kernelspec": {
   "display_name": "Python 3",
   "language": "python",
   "name": "python3"
  },
  "language_info": {
   "codemirror_mode": {
    "name": "ipython",
    "version": 3
   },
   "file_extension": ".py",
   "mimetype": "text/x-python",
   "name": "python",
   "nbconvert_exporter": "python",
   "pygments_lexer": "ipython3",
   "version": "3.11.0"
  },
  "orig_nbformat": 4,
  "vscode": {
   "interpreter": {
    "hash": "a80ff5da2e7a9a9594889659e15313a9081d956cf7bf83fa6463eb465b0002c9"
   }
  }
 },
 "nbformat": 4,
 "nbformat_minor": 2
}
