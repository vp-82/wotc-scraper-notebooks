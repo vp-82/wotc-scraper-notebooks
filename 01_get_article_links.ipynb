{
 "cells": [
  {
   "cell_type": "code",
   "execution_count": 133,
   "metadata": {},
   "outputs": [],
   "source": [
    "import datetime\n",
    "import ipywidgets as widgets\n",
    "import requests\n",
    "from bs4 import BeautifulSoup\n",
    "import json\n",
    "import os\n",
    "import pathlib\n",
    "import time"
   ]
  },
  {
   "cell_type": "code",
   "execution_count": 134,
   "metadata": {},
   "outputs": [],
   "source": [
    "from_date = datetime.date.today()\n",
    "search_url='https://magic.wizards.com/en/news/archive?search&page=1&category=all&author=all&order=newest'\n",
    "max_pages = 100\n",
    "link_file = pathlib.Path('./data/linklist.json')\n",
    "check_existing = True"
   ]
  },
  {
   "cell_type": "code",
   "execution_count": 135,
   "metadata": {},
   "outputs": [],
   "source": [
    "known_link_ids = []\n",
    "if os.path.exists(link_file):\n",
    "    with open(link_file) as f:\n",
    "        link_infos = json.load(f)\n",
    "        for linfo in link_infos:\n",
    "            known_link_ids.append(linfo['id'])"
   ]
  },
  {
   "cell_type": "code",
   "execution_count": 136,
   "metadata": {},
   "outputs": [
    {
     "data": {
      "application/vnd.jupyter.widget-view+json": {
       "model_id": "4dd92ad914bc4108a6fb153a3c9e7751",
       "version_major": 2,
       "version_minor": 0
      },
      "text/plain": [
       "DatePicker(value=datetime.date(2023, 2, 7), description='Start Date', step=1)"
      ]
     },
     "execution_count": 136,
     "metadata": {},
     "output_type": "execute_result"
    }
   ],
   "source": [
    "widgets.DatePicker(\n",
    "    description = 'Start Date',\n",
    "    value = from_date\n",
    ")"
   ]
  },
  {
   "cell_type": "code",
   "execution_count": 137,
   "metadata": {},
   "outputs": [],
   "source": [
    "def link_exists(id: str, link_ids: list, check_for_exist: bool):\n",
    "    if check_for_exist:\n",
    "        print(f'Checking Id {id}')\n",
    "        for link_info in link_ids:\n",
    "            lid = link_info['id']\n",
    "            \n",
    "            if id == lid:\n",
    "                print(f'Link Id {id} is already in list... Will skip')\n",
    "                return True\n",
    "            else:\n",
    "                return False"
   ]
  },
  {
   "cell_type": "code",
   "execution_count": 138,
   "metadata": {},
   "outputs": [
    {
     "name": "stdout",
     "output_type": "stream",
     "text": [
      "Page: 10\n",
      "200\n",
      "Page: 20\n",
      "200\n",
      "Page: 30\n",
      "200\n",
      "Page: 40\n",
      "200\n",
      "Page: 50\n",
      "200\n",
      "Page: 60\n",
      "200\n",
      "Page: 70\n",
      "200\n",
      "Page: 80\n",
      "200\n",
      "Page: 90\n",
      "200\n",
      "Page: 100\n",
      "200\n"
     ]
    }
   ],
   "source": [
    "i = 1\n",
    "search_response = requests.get(search_url)\n",
    "if (search_response.status_code != 200):\n",
    "    raise requests.HTTPError(search_response)\n",
    "\n",
    "page_list = []  \n",
    "\n",
    "while(search_response.status_code == 200 and i <= max_pages):\n",
    "    time.sleep(2)\n",
    "    search_response = requests.get(f'https://magic.wizards.com/en/news/archive?search&page={i}&category=all&author=all&order=newest')\n",
    "    page_result = search_response.text\n",
    "    soup = BeautifulSoup(page_result, 'html.parser')\n",
    "    entry_list = soup.find_all(class_=\"css-9f4rq\")\n",
    "    for entry in entry_list:\n",
    "        parent = entry.findParent()\n",
    "        link_id = parent.get('href')\n",
    "        if not link_id in known_link_ids:\n",
    "            link_info = {'id': link_id,\n",
    "                        'link': 'https://magic.wizards.com'+link_id,\n",
    "                        'name': parent.text,\n",
    "                        'date_added': datetime.datetime.now().strftime(\"%Y-%m-%d, %H:%M:%S\")\n",
    "                        }\n",
    "            \n",
    "            page_list.append(link_info)\n",
    "            # print(f'LinkId {link_id} added')\n",
    "        else:\n",
    "            print(f'Link with Id {link_id} already exists')\n",
    "            \n",
    "        if i % 10 == 0:\n",
    "            print(f'Page: {i}')\n",
    "            print(search_response.status_code)\n",
    "        i+=1\n",
    "\n",
    "\n",
    "with open(link_file, 'w') as j:\n",
    "    json.dump(page_list, j, indent=4)\n",
    "\n",
    "\n",
    "\n"
   ]
  },
  {
   "cell_type": "code",
   "execution_count": null,
   "metadata": {},
   "outputs": [],
   "source": []
  }
 ],
 "metadata": {
  "kernelspec": {
   "display_name": "Python 3",
   "language": "python",
   "name": "python3"
  },
  "language_info": {
   "codemirror_mode": {
    "name": "ipython",
    "version": 3
   },
   "file_extension": ".py",
   "mimetype": "text/x-python",
   "name": "python",
   "nbconvert_exporter": "python",
   "pygments_lexer": "ipython3",
   "version": "3.11.0"
  },
  "orig_nbformat": 4,
  "vscode": {
   "interpreter": {
    "hash": "a80ff5da2e7a9a9594889659e15313a9081d956cf7bf83fa6463eb465b0002c9"
   }
  }
 },
 "nbformat": 4,
 "nbformat_minor": 2
}
