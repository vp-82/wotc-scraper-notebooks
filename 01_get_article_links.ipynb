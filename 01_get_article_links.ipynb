{
 "cells": [
  {
   "cell_type": "code",
   "execution_count": 313,
   "metadata": {},
   "outputs": [],
   "source": [
    "import datetime\n",
    "import ipywidgets as widgets\n",
    "import requests\n",
    "from bs4 import BeautifulSoup\n",
    "import json\n",
    "import os\n",
    "import pathlib\n",
    "import time"
   ]
  },
  {
   "cell_type": "code",
   "execution_count": 314,
   "metadata": {},
   "outputs": [],
   "source": [
    "from_page = 1\n",
    "to_page = 2\n",
    "link_file = pathlib.Path('./data/linklist.json')"
   ]
  },
  {
   "cell_type": "code",
   "execution_count": 315,
   "metadata": {},
   "outputs": [],
   "source": [
    "known_link_ids = []\n",
    "link_list = []\n",
    "if os.path.exists(link_file):\n",
    "    with open(link_file) as f:\n",
    "        try:\n",
    "            link_list = json.load(f)\n",
    "            for linfo in link_list:\n",
    "                known_link_ids.append(linfo['id'])\n",
    "        except json.JSONDecodeError:\n",
    "            print(f'Link file {link_file} is empty')\n",
    "else:\n",
    "    with open(link_file, 'w') as j:\n",
    "        j.close()\n"
   ]
  },
  {
   "cell_type": "code",
   "execution_count": 316,
   "metadata": {},
   "outputs": [
    {
     "name": "stdout",
     "output_type": "stream",
     "text": [
      "Link with Id /en/news/announcements/phyrexia-all-will-be-one-comprehensive-rules-changes already exists\n",
      "Link with Id /en/news/announcements/phyrexia-all-will-be-one-update-bulletin already exists\n",
      "Link with Id /en/news/mtg-arena/2023-mtg-arena-premier-play already exists\n",
      "Link with Id /en/news/mtg-arena/the-most-played-cards-of-phyrexia-all-will-be-one-in-early-access already exists\n",
      "Link with Id /en/news/mtg-arena/mtg-arena-announcements-february-6-2023 already exists\n",
      "Link with Id /en/news/mtg-arena/mtg-arena-release-notes-phyrexia-all-will-be-one already exists\n",
      "Link with Id /en/news/making-magic/mission-compleat-part-2 already exists\n",
      "Link with Id /en/news/announcements/update-on-secret-lair-ssssssnakessssss-stonecoil-serpent-art already exists\n",
      "Link with Id /en/news/feature/the-legends-of-phyrexia-all-will-be-one already exists\n",
      "Link with Id /en/news/card-image-gallery/phyrexia-all-will-be-one-art-cards already exists\n"
     ]
    }
   ],
   "source": [
    "i = from_page\n",
    "\n",
    "has_results = True\n",
    "\n",
    "while(has_results and i <= to_page):\n",
    "    new_link_list = []  \n",
    "    time.sleep(2)\n",
    "    search_response = requests.get(f'https://magic.wizards.com/en/news/archive?search&page={i}&category=all&author=all&order=newest')\n",
    "    page_result = search_response.text\n",
    "    soup = BeautifulSoup(page_result, 'html.parser')\n",
    "    \n",
    "    # Check if page is empty:\n",
    "    entry = soup.find(class_=\"css-36asz\")\n",
    "    if entry:\n",
    "        print(f'Response from page {i} :'+entry.text.strip())\n",
    "        has_results = False\n",
    "        break\n",
    "    \n",
    "    entry_list = soup.find_all(class_=\"css-9f4rq\")\n",
    "    for entry in entry_list:\n",
    "        parent = entry.findParent()\n",
    "        link_id = parent.get('href')\n",
    "        if not link_id in known_link_ids:\n",
    "            link_info = {'id': link_id,\n",
    "                        'link': 'https://magic.wizards.com'+link_id,\n",
    "                        'name': parent.text,\n",
    "                        'date_added': datetime.datetime.now().strftime(\"%Y-%m-%d, %H:%M:%S\"),\n",
    "                        'date_downloaded': ''\n",
    "                        }\n",
    "            print(f'Adding {link_id}')\n",
    "            new_link_list.append(link_info)\n",
    "            # print(f'LinkId {link_id} added')\n",
    "        else:\n",
    "            print(f'Link with Id {link_id} already exists')\n",
    "        \n",
    "    link_list.extend(new_link_list)\n",
    "    if i % 10 == 0:\n",
    "        print(f'Page: {i}')\n",
    "        print(search_response.status_code)\n",
    "    i+=1\n",
    "\n",
    "\n",
    "with open(link_file, 'w') as j:\n",
    "    json.dump(link_list, j, indent=4)\n",
    "\n",
    "\n",
    "\n"
   ]
  },
  {
   "cell_type": "code",
   "execution_count": null,
   "metadata": {},
   "outputs": [],
   "source": []
  }
 ],
 "metadata": {
  "kernelspec": {
   "display_name": "Python 3",
   "language": "python",
   "name": "python3"
  },
  "language_info": {
   "codemirror_mode": {
    "name": "ipython",
    "version": 3
   },
   "file_extension": ".py",
   "mimetype": "text/x-python",
   "name": "python",
   "nbconvert_exporter": "python",
   "pygments_lexer": "ipython3",
   "version": "3.11.0"
  },
  "orig_nbformat": 4,
  "vscode": {
   "interpreter": {
    "hash": "a80ff5da2e7a9a9594889659e15313a9081d956cf7bf83fa6463eb465b0002c9"
   }
  }
 },
 "nbformat": 4,
 "nbformat_minor": 2
}
