{
 "cells": [
  {
   "cell_type": "code",
   "execution_count": 7,
   "metadata": {},
   "outputs": [],
   "source": [
    "import json\n",
    "import pathlib\n",
    "from bs4 import BeautifulSoup"
   ]
  },
  {
   "cell_type": "code",
   "execution_count": 8,
   "metadata": {},
   "outputs": [],
   "source": [
    "def convert_html_to_json(html_file: pathlib.PosixPath):\n",
    "    content = ''\n",
    "    json_file = './data/json/' + html_file.name + '.json'\n",
    "    with open(html_file.absolute()) as h, open(json_file, mode='w') as j:\n",
    "        soup = BeautifulSoup(h, 'html.parser')\n",
    "        title = soup.find(class_ = 'css-om3e2')\n",
    "        author = soup.find(class_ = 'css-PH621')\n",
    "        category = soup.find(class_ = 'css-vV9lX')\n",
    "        date = soup.find('time')\n",
    "        content_list = soup.findAll('p')\n",
    "\n",
    "        \n",
    "        for c in content_list:\n",
    "            if c.text != '':\n",
    "                content = content + c.text.strip()\n",
    "        \n",
    "        content = content.replace('\\n', ' ')\n",
    "                \n",
    "        article = {\n",
    "            'title': title.string.strip(),\n",
    "            'author': author.string.strip(),\n",
    "            'category': category.string.strip(),\n",
    "            'date': date.string.strip(),\n",
    "            'content': content\n",
    "        }\n",
    "        json.dump(article, j, indent=4)"
   ]
  },
  {
   "cell_type": "code",
   "execution_count": 9,
   "metadata": {},
   "outputs": [],
   "source": [
    "raw_dir = pathlib.Path('./data/raw_html')\n",
    "for html_file in raw_dir.iterdir():\n",
    "    convert_html_to_json(html_file=html_file)"
   ]
  },
  {
   "cell_type": "code",
   "execution_count": null,
   "metadata": {},
   "outputs": [],
   "source": []
  }
 ],
 "metadata": {
  "kernelspec": {
   "display_name": "Python 3",
   "language": "python",
   "name": "python3"
  },
  "language_info": {
   "codemirror_mode": {
    "name": "ipython",
    "version": 3
   },
   "file_extension": ".py",
   "mimetype": "text/x-python",
   "name": "python",
   "nbconvert_exporter": "python",
   "pygments_lexer": "ipython3",
   "version": "3.11.1"
  },
  "orig_nbformat": 4,
  "vscode": {
   "interpreter": {
    "hash": "5c7b89af1651d0b8571dde13640ecdccf7d5a6204171d6ab33e7c296e100e08a"
   }
  }
 },
 "nbformat": 4,
 "nbformat_minor": 2
}
