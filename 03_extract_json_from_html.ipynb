{
 "cells": [
  {
   "cell_type": "code",
   "execution_count": 47,
   "metadata": {},
   "outputs": [],
   "source": [
    "import json\n",
    "import pathlib\n",
    "from bs4 import BeautifulSoup"
   ]
  },
  {
   "cell_type": "code",
   "execution_count": 48,
   "metadata": {},
   "outputs": [],
   "source": [
    "def convert_html_to_json(html_file: pathlib.PosixPath):\n",
    "    json_file = './data/json/' + html_file.name + '.json'\n",
    "    \n",
    "    # Open both the HTML file and the JSON file\n",
    "    with open(html_file.absolute(), 'r') as h, open(json_file, 'w') as j:\n",
    "        # Use BeautifulSoup to parse the HTML\n",
    "        soup = BeautifulSoup(h, 'html.parser')\n",
    "        \n",
    "        # Extract the title, author, category, and date of the article\n",
    "        # If the elements are not found, set their values to an empty string\n",
    "        title = soup.find(class_ = 'css-om3e2').string if soup.find(class_ = 'css-om3e2') else ''\n",
    "        author = soup.find(class_ = 'css-PH621').string if soup.find(class_ = 'css-PH621') else ''\n",
    "        category = soup.find(class_ = 'css-vV9lX').string if soup.find(class_ = 'css-vV9lX') else ''\n",
    "        date = soup.find('time').string if soup.find('time') else ''\n",
    "        \n",
    "        # Extract the content of the article by concatenating all `p` elements\n",
    "        # and remove newline characters\n",
    "        content = ' '.join(p.text.strip() for p in soup.find_all('p') if p.text.strip())\n",
    "        content = content.replace('\\n', ' ')\n",
    "        \n",
    "        # Create a dictionary representing the article\n",
    "        article = {\n",
    "            'title': title.strip(),\n",
    "            'author': author.strip(),\n",
    "            'category': category.strip(),\n",
    "            'date': date.strip(),\n",
    "            'content': content\n",
    "        }\n",
    "        \n",
    "        # Write the dictionary to the JSON file\n",
    "        json.dump(article, j, indent=4)"
   ]
  },
  {
   "cell_type": "code",
   "execution_count": null,
   "metadata": {},
   "outputs": [],
   "source": [
    "def test_convert_html_to_json():\n",
    "    # Create a test HTML file\n",
    "    html = \"\"\"\n",
    "    <html>\n",
    "    <head>\n",
    "    <title>Test Article</title>\n",
    "    </head>\n",
    "    <body>\n",
    "        <h1 class=\"css-om3e2\">Test Title</h1>\n",
    "        <span class=\"css-PH621\">Test Author</span>\n",
    "        <span class=\"css-vV9lX\">Test Category</span>\n",
    "        <time>2023-02-13</time>\n",
    "        <p>Test content 1</p>\n",
    "        <p>Test content 2</p>\n",
    "    </body>\n",
    "    </html>\n",
    "    \"\"\"\n",
    "    html_file = pathlib.Path('./test_html.html')\n",
    "    with open(html_file, 'w') as f:\n",
    "        f.write(html)\n",
    "        \n",
    "    # Call the function to convert the HTML to JSON\n",
    "    convert_html_to_json(html_file)\n",
    "    \n",
    "    # Read the generated JSON file and compare its content to the expected result\n",
    "    json_file = pathlib.Path('./data/json/test_html.json')\n",
    "    with open(json_file, 'r') as f:\n",
    "        result = json.load(f)\n",
    "    \n",
    "    expected = {\n",
    "        'title': 'Test Title',\n",
    "        'author': 'Test Author',\n",
    "        'category': 'Test Category',\n",
    "        'date': '2023-02-13',\n",
    "        'content': 'Test content 1 Test content 2'\n",
    "    }\n",
    "    \n",
    "    assert result == expected, f\"Expected {expected}, but got {result}\"\n",
    "    \n",
    "    # Clean up the test files\n",
    "    os.remove(html_file)\n",
    "    os.remove(json_file)"
   ]
  },
  {
   "cell_type": "code",
   "execution_count": 50,
   "metadata": {},
   "outputs": [
    {
     "name": "stdout",
     "output_type": "stream",
     "text": [
      "1920 files converted from html to json\n"
     ]
    }
   ],
   "source": [
    "def main():\n",
    "    \n",
    "    # Convert the HTML files to JSON\n",
    "    raw_dir = pathlib.Path('./data/raw_html')\n",
    "    i = 0\n",
    "    for html_file in raw_dir.iterdir():\n",
    "        convert_html_to_json(html_file=html_file)\n",
    "        i += 1\n",
    "        \n",
    "    print(f'{i} files converted from html to json')\n",
    "\n",
    "if __name__ == '__main__':\n",
    "    main()"
   ]
  },
  {
   "cell_type": "code",
   "execution_count": null,
   "metadata": {},
   "outputs": [],
   "source": []
  }
 ],
 "metadata": {
  "kernelspec": {
   "display_name": "Python 3",
   "language": "python",
   "name": "python3"
  },
  "language_info": {
   "codemirror_mode": {
    "name": "ipython",
    "version": 3
   },
   "file_extension": ".py",
   "mimetype": "text/x-python",
   "name": "python",
   "nbconvert_exporter": "python",
   "pygments_lexer": "ipython3",
   "version": "3.11.0"
  },
  "orig_nbformat": 4,
  "vscode": {
   "interpreter": {
    "hash": "a80ff5da2e7a9a9594889659e15313a9081d956cf7bf83fa6463eb465b0002c9"
   }
  }
 },
 "nbformat": 4,
 "nbformat_minor": 2
}
