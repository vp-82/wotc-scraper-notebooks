{
 "cells": [
  {
   "cell_type": "code",
   "execution_count": null,
   "metadata": {},
   "outputs": [],
   "source": [
    "import json\n",
    "import pathlib\n",
    "from bs4 import BeautifulSoup"
   ]
  },
  {
   "cell_type": "code",
   "execution_count": null,
   "metadata": {},
   "outputs": [],
   "source": [
    "def convert_html_to_json(html_file: pathlib.PosixPath):\n",
    "    content = ''\n",
    "    json_file = './data/json/' + html_file.name + '.json'\n",
    "    with open(html_file.absolute()) as h, open(json_file, mode='w') as j:\n",
    "        soup = BeautifulSoup(h, 'html.parser')\n",
    "        title_element = soup.find(class_ = 'css-om3e2')\n",
    "        author_element = soup.find(class_ = 'css-PH621')\n",
    "        category_element = soup.find(class_ = 'css-vV9lX')\n",
    "        date_element = soup.find('time')\n",
    "        content_list_element = soup.findAll('p')\n",
    "\n",
    "        if title_element is None:\n",
    "            title = ''\n",
    "        else:\n",
    "            if title_element.string is None:\n",
    "                title = ''\n",
    "            else:\n",
    "                title = title_element.string\n",
    "            \n",
    "        if author_element is None:\n",
    "            author = ''\n",
    "        else:\n",
    "            author = author_element.string\n",
    "            \n",
    "        if category_element is None:\n",
    "            category = ''\n",
    "        else:\n",
    "            category = category_element.string\n",
    "            \n",
    "        if date_element is None:\n",
    "            date = ''\n",
    "        else:\n",
    "            date = date_element.string\n",
    "            \n",
    "        if content_list_element is None:\n",
    "            content_list_element = []\n",
    "        \n",
    "        for c in content_list_element:\n",
    "            if c.text != '':\n",
    "                content = content + c.text.strip()\n",
    "        \n",
    "        content = content.replace('\\n', ' ')\n",
    "                \n",
    "        article = {\n",
    "            'title': title.strip(),\n",
    "            'author': author.strip(),\n",
    "            'category': category.strip(),\n",
    "            'date': date.strip(),\n",
    "            'content': content\n",
    "        }\n",
    "        json.dump(article, j, indent=4)"
   ]
  },
  {
   "cell_type": "code",
   "execution_count": null,
   "metadata": {},
   "outputs": [],
   "source": [
    "raw_dir = pathlib.Path('./data/raw_html')\n",
    "i = 0\n",
    "for html_file in raw_dir.iterdir():\n",
    "    convert_html_to_json(html_file=html_file)\n",
    "    i += 1\n",
    "\n",
    "print(f'{i} files converted from html to json')"
   ]
  },
  {
   "cell_type": "code",
   "execution_count": null,
   "metadata": {},
   "outputs": [],
   "source": []
  }
 ],
 "metadata": {
  "kernelspec": {
   "display_name": "Python 3",
   "language": "python",
   "name": "python3"
  },
  "language_info": {
   "codemirror_mode": {
    "name": "ipython",
    "version": 3
   },
   "file_extension": ".py",
   "mimetype": "text/x-python",
   "name": "python",
   "nbconvert_exporter": "python",
   "pygments_lexer": "ipython3",
   "version": "3.11.1"
  },
  "orig_nbformat": 4,
  "vscode": {
   "interpreter": {
    "hash": "5c7b89af1651d0b8571dde13640ecdccf7d5a6204171d6ab33e7c296e100e08a"
   }
  }
 },
 "nbformat": 4,
 "nbformat_minor": 2
}
