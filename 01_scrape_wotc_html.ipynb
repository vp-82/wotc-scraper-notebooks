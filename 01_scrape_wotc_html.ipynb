{
 "cells": [
  {
   "attachments": {},
   "cell_type": "markdown",
   "metadata": {},
   "source": [
    "## Scrape https://magic.wizards.com/en/news/archive and collect the articles"
   ]
  },
  {
   "cell_type": "code",
   "execution_count": 34,
   "metadata": {},
   "outputs": [],
   "source": [
    "import datetime\n",
    "import ipywidgets as widgets\n",
    "import urllib\n",
    "import requests\n",
    "from bs4 import BeautifulSoup"
   ]
  },
  {
   "attachments": {},
   "cell_type": "markdown",
   "metadata": {},
   "source": [
    "Imports"
   ]
  },
  {
   "cell_type": "code",
   "execution_count": 22,
   "metadata": {},
   "outputs": [],
   "source": [
    "from_date = datetime.date.today()\n",
    "to_date = datetime.date.today()\n",
    "search_url='https://magic.wizards.com/en/news/archive?search&page=1&category=all&author=all&order=newest'\n",
    "offset = 0"
   ]
  },
  {
   "cell_type": "code",
   "execution_count": 11,
   "metadata": {},
   "outputs": [
    {
     "data": {
      "application/vnd.jupyter.widget-view+json": {
       "model_id": "281dd8dd13af4bf8b88ece7ad51551ee",
       "version_major": 2,
       "version_minor": 0
      },
      "text/plain": [
       "DatePicker(value=datetime.date(2023, 2, 6), description='Start Date', step=1)"
      ]
     },
     "execution_count": 11,
     "metadata": {},
     "output_type": "execute_result"
    }
   ],
   "source": [
    "widgets.DatePicker(\n",
    "    description = 'Start Date',\n",
    "    value = from_date\n",
    ")"
   ]
  },
  {
   "cell_type": "code",
   "execution_count": 13,
   "metadata": {},
   "outputs": [],
   "source": [
    "# Parse date to proper format for the http request\n",
    "f_date = urllib.parse.quote(from_date.strftime('%m/%d/%Y'), safe='')\n",
    "t_date = urllib.parse.quote(to_date.strftime('%m/%d/%Y'), safe='')\n"
   ]
  },
  {
   "cell_type": "code",
   "execution_count": 16,
   "metadata": {},
   "outputs": [],
   "source": [
    "payload = {'from_date': f_date, 'toDate': t_date, 'f1': 'article',\n",
    "            'f2': '-1', 'sort': 'DESC', 'search': '', 'l': 'en',\n",
    "            'offset': offset}\n"
   ]
  },
  {
   "cell_type": "code",
   "execution_count": 17,
   "metadata": {},
   "outputs": [],
   "source": [
    "link_list = []"
   ]
  },
  {
   "cell_type": "code",
   "execution_count": 23,
   "metadata": {},
   "outputs": [],
   "source": [
    "search_response = requests.get(search_url)"
   ]
  },
  {
   "cell_type": "code",
   "execution_count": 24,
   "metadata": {},
   "outputs": [],
   "source": [
    "if (search_response.status_code != 200):\n",
    "    raise requests.HTTPError(search_response)\n"
   ]
  },
  {
   "cell_type": "code",
   "execution_count": 33,
   "metadata": {},
   "outputs": [],
   "source": [
    "page_result = search_response.text\n",
    "soup = BeautifulSoup(page_result, 'html.parser')"
   ]
  },
  {
   "cell_type": "code",
   "execution_count": 51,
   "metadata": {},
   "outputs": [
    {
     "name": "stdout",
     "output_type": "stream",
     "text": [
      "/en/news/making-magic/mission-compleat-part-2\n",
      "/en/news/announcements/update-on-secret-lair-ssssssnakessssss-stonecoil-serpent-art\n",
      "/en/news/feature/the-legends-of-phyrexia-all-will-be-one\n",
      "/en/news/card-image-gallery/phyrexia-all-will-be-one-art-cards\n",
      "/en/news/announcements/phyrexia-all-will-be-one-jumpstart-booster-themes-and-card-lists\n"
     ]
    }
   ],
   "source": [
    "entry_list = soup.find_all(class_=\"css-9f4rq\")\n",
    "for entry in entry_list:\n",
    "    parent = entry.findParent()\n",
    "    print(parent.get('href'))"
   ]
  },
  {
   "cell_type": "code",
   "execution_count": null,
   "metadata": {},
   "outputs": [],
   "source": []
  }
 ],
 "metadata": {
  "kernelspec": {
   "display_name": "Python 3",
   "language": "python",
   "name": "python3"
  },
  "language_info": {
   "codemirror_mode": {
    "name": "ipython",
    "version": 3
   },
   "file_extension": ".py",
   "mimetype": "text/x-python",
   "name": "python",
   "nbconvert_exporter": "python",
   "pygments_lexer": "ipython3",
   "version": "3.11.0"
  },
  "orig_nbformat": 4,
  "vscode": {
   "interpreter": {
    "hash": "a80ff5da2e7a9a9594889659e15313a9081d956cf7bf83fa6463eb465b0002c9"
   }
  }
 },
 "nbformat": 4,
 "nbformat_minor": 2
}
